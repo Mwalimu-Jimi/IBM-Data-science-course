{
  "metadata": {
    "kernelspec": {
      "name": "python",
      "display_name": "Pyolite",
      "language": "python"
    },
    "language_info": {
      "codemirror_mode": {
        "name": "python",
        "version": 3
      },
      "file_extension": ".py",
      "mimetype": "text/x-python",
      "name": "python",
      "nbconvert_exporter": "python",
      "pygments_lexer": "ipython3",
      "version": "3.8"
    }
  },
  "nbformat_minor": 4,
  "nbformat": 4,
  "cells": [
    {
      "cell_type": "markdown",
      "source": "<center>\n    <img src=\"https://cf-courses-data.s3.us.cloud-object-storage.appdomain.cloud/IBMDeveloperSkillsNetwork-DS0105EN-SkillsNetwork/labs/Module2/images/SN_web_lightmode.png\" width=\"300\" alt=\"cognitiveclass.ai logo\">\n</center>\n",
      "metadata": {}
    },
    {
      "cell_type": "markdown",
      "source": "#### Add your code below following the instructions given in the course\n",
      "metadata": {}
    },
    {
      "cell_type": "markdown",
      "source": "# My Jupyter Notebook on IBM Watson Studio",
      "metadata": {}
    },
    {
      "cell_type": "markdown",
      "source": "### __James Kyle Shirley__\nProgram Director",
      "metadata": {}
    },
    {
      "cell_type": "markdown",
      "source": "*I am interested in data science because I am trying to use machine learning to identify where rural pedestrain bridges are needed so people can have safe access to critical destionations in lower income countries. Also, I am considering a career change into data science.*",
      "metadata": {}
    },
    {
      "cell_type": "markdown",
      "source": "### The code below shows the result of four divided by two.",
      "metadata": {}
    },
    {
      "cell_type": "code",
      "source": "4/2",
      "metadata": {
        "trusted": true
      },
      "execution_count": 9,
      "outputs": [
        {
          "execution_count": 9,
          "output_type": "execute_result",
          "data": {
            "text/plain": "2.0"
          },
          "metadata": {}
        }
      ]
    },
    {
      "cell_type": "markdown",
      "source": "\n<a href=\"bridgestoprosperity.org\">My Work</a> \n\n---\n\n~~This is how you do a strikethrough~~\n\n***\n\n**This markdown includes horizontal rule, hyperlinks, and strikethrough**",
      "metadata": {}
    }
  ]
}